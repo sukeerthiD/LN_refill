{
 "cells": [
  {
   "cell_type": "code",
   "execution_count": 1,
   "id": "b924aa89",
   "metadata": {},
   "outputs": [
    {
     "name": "stdout",
     "output_type": "stream",
     "text": [
      "/dev/ttyUSB1: USB Serial [USB VID:PID=1A86:7523 LOCATION=3-3]\n",
      "/dev/ttyUSB2: FT232R USB UART - FT232R USB UART [USB VID:PID=0403:6001 SER=AK06L9UZ LOCATION=3-5]\n"
     ]
    }
   ],
   "source": [
    "import serial\n",
    "import serial.tools.list_ports\n",
    "import re\n",
    "\n",
    "pattern1 = re.compile(\"\\d.\\d*\") \n",
    "pattern2 = re.compile(\"PID=(\\d*):\\d\\d\\d\\d\")\n",
    "\n",
    "ports = serial.tools.list_ports.comports()\n",
    "pname, pid = {}, {}\n",
    "for n, (port, desc, hwid) in enumerate(sorted(ports)):\n",
    "        print(\"{}: {} [{}]\".format(port, desc, hwid))\n",
    "        pname[n] = port\n",
    "        pid[n] = hwid\n"
   ]
  },
  {
   "cell_type": "code",
   "execution_count": 2,
   "id": "febabbaa",
   "metadata": {},
   "outputs": [],
   "source": [
    "for i in range(len(ports)):\n",
    "    if re.findall(pattern2, pid[i])[0] == '1A86': # Change '1A86' to Arduino port  id. \n",
    "        print('here')\n",
    "        ser1=serial.Serial(pname[i],9600,timeout=1)# arduino   \n",
    "    else:    \n",
    "        ser2=serial.Serial(pname[i],9600,timeout=1)# weighing scale"
   ]
  },
  {
   "cell_type": "code",
   "execution_count": 3,
   "id": "ae615f2b",
   "metadata": {},
   "outputs": [
    {
     "name": "stdout",
     "output_type": "stream",
     "text": [
      "b'\\x00:W    1.0kgS'\n",
      "weight is  1.0\n",
      "arduino input ON\n",
      "b' \\r:W    1.0kgS'\n",
      "weight is  1.0\n",
      "arduino input ON\n",
      "b' \\r:W    1.0kgS'\n",
      "weight is  1.0\n",
      "arduino input ON\n"
      ]
     }
    ],
   "source": [
    "\n",
    "while True: # Run forever\n",
    "    read_ser2=ser2.read_until(b'S')\n",
    "    weight=re.search(pattern1 , read_ser2.decode()).group()\n",
    "    if (weight != \"\"):\n",
    "        print('weight is ', weight)\n",
    "        if float(weight) < 1.3:\n",
    "            ser1.write(b'ON\\n')\n",
    "            print('arduino input ON')\n",
    "        else:\n",
    "            ser1.write(b'OFF\\n')\n",
    "            print('arduino input OFF')"
   ]
  }
 ],
 "metadata": {
  "kernelspec": {
   "display_name": "Python 3",
   "language": "python",
   "name": "python3"
  },
  "language_info": {
   "codemirror_mode": {
    "name": "ipython",
    "version": 3
   },
   "file_extension": ".py",
   "mimetype": "text/x-python",
   "name": "python",
   "nbconvert_exporter": "python",
   "pygments_lexer": "ipython3",
   "version": "3.8.10"
  }
 },
 "nbformat": 4,
 "nbformat_minor": 5
}
